{
 "cells": [
  {
   "cell_type": "code",
   "execution_count": 2,
   "id": "d58b6da5",
   "metadata": {},
   "outputs": [],
   "source": [
    "import pandas as pd\n",
    "import seaborn as sns\n",
    "import numpy as np\n",
    "import math\n",
    "from matplotlib import pyplot as plt\n",
    "import os\n",
    "from io import StringIO\n",
    "import json\n",
    "%matplotlib inline "
   ]
  },
  {
   "cell_type": "code",
   "execution_count": 3,
   "id": "9b306627",
   "metadata": {},
   "outputs": [],
   "source": [
    "base_name = \"../fixed_experiment_data/RV23_coverage_experiment_small/\"\n",
    "base_paths =  [\"..\"]\n",
    "names = [\"data_{0}.csv\".format(str(i)) for i in range(10)]\n",
    "meta_name = \"meta.json\"\n",
    "batch_size = 10**6\n",
    "header = [\"$Observations$\", \"$State$\", \"$Observation$\",\"$Execution \\; Time$\" ,\"$Lower \\; Bound$\", \"$Upper \\; Bound$\", \"$Point \\; Estimate$\"]"
   ]
  },
  {
   "cell_type": "code",
   "execution_count": null,
   "id": "fb35e20e",
   "metadata": {},
   "outputs": [],
   "source": [
    "def slim_file(name, base_path ,increments=10**6):\n",
    "    i = 0\n",
    "    from_path = os.path.join(base_path,name)\n",
    "    to_path = os.path.join(base_path, \"slim_\"+name)\n",
    "    new_file = StringIO()\n",
    "    with open(from_path, \"r\") as f:\n",
    "        for line in f:\n",
    "            if i % increments==0:\n",
    "                print(i)\n",
    "                new_file.write(line)\n",
    "            i += 1\n",
    "    with open(to_path, \"w\") as f:\n",
    "        f.write(new_file.getvalue())\n",
    "        \n",
    "def get_meta(meta_path):\n",
    "    with open(meta_path, \"r\") as f:\n",
    "        meta_dict = json.load(f)\n",
    "    return meta_dict\n",
    "\n",
    "\n",
    "def generate_data_frame(base_path, name, meta_name):\n",
    "    meta_dict = get_meta(base_path, meta_name)\n",
    "    try:\n",
    "        df =  pd.read_csv(os.path.join(base_path, \"slim_\"+name), names=header)\n",
    "    except FileNotFoundError:\n",
    "        slim_file(name, base_path)\n",
    "        df =  pd.read_csv(os.path.join(base_path, \"slim_\"+name), names=header)\n",
    "    df[\"$True \\; Value$\"] = meta_dict[\"true_value\"]\n",
    "    df = df[[\"$Observations$\",\"$Lower \\; Bound$\", \"$Upper \\; Bound$\",  \"$True \\; Value$\", \"$Point \\; Estimate$\"]]\n",
    "    df2 = pd.melt(df, value_vars=[\"$Lower \\; Bound$\", \"$Upper \\; Bound$\", \"$True \\; Value$\", \"$Point \\; Estimate$\"], \n",
    "              id_vars=[\"$Observations$\"], value_name=\"$Property \\; Value$\", var_name=\"$Bounds$\")\n",
    "    return df2\n",
    "\n",
    "    \n",
    "    \n",
    "def generate_all_data_frame(base_name, names, meta_name, filter_name=\"\"):\n",
    "    df_list = []\n",
    "    i = 0\n",
    "    for dir_name in os.listdir(base_name):\n",
    "        dir_path = os.path.join(base_name, dir_path)\n",
    "        for file_name in os.listdir(dir_path):\n",
    "            if \".csv\" in file_name:\n",
    "                if n\n",
    "                print(\"-\"*100)\n",
    "                print(i)\n",
    "                print(\"-\"*100)\n",
    "                df = generate_data_frame(base_path, name, meta_name)\n",
    "                df[\"$Run$\"] = i\n",
    "                df_list.append(df)\n",
    "                i += 1\n",
    "    return pd.concat(df_list)\n",
    "        \n",
    "        "
   ]
  },
  {
   "cell_type": "code",
   "execution_count": 68,
   "id": "60da19d8",
   "metadata": {},
   "outputs": [],
   "source": [
    "def get_meta(meta_path):\n",
    "    with open(meta_path, \"r\") as f:\n",
    "        meta_dict = json.load(f)\n",
    "    return meta_dict\n",
    "\n",
    "def generate_data_frame(file_path, meta_path):\n",
    "    meta_dict = get_meta(meta_path)\n",
    "    df = pd.read_csv(file_path, names=header)\n",
    "    df[\"$True \\; Value$\"] = meta_dict[\"true_value\"]\n",
    "    df = df[[\"$Observations$\",\"$Lower \\; Bound$\", \"$Upper \\; Bound$\",  \"$True \\; Value$\", \"$Point \\; Estimate$\"]]\n",
    "    df2 = pd.melt(df, value_vars=[\"$Lower \\; Bound$\", \"$Upper \\; Bound$\", \"$True \\; Value$\", \"$Point \\; Estimate$\"], \n",
    "              id_vars=[\"$Observations$\"], value_name=\"$Property \\; Value$\", var_name=\"$Bounds$\")\n",
    "    return df2\n",
    "\n",
    "def generate_ex_time_data_frame(file_path, meta_path):\n",
    "    df = pd.read_csv(file_path, names=header)\n",
    "    return df[[\"$Observations$\", \"$Execution \\; Time$\"]]\n",
    "\n",
    "def generate_agg_ex_time_data_frames(base_name, generator_filter, property_filter, generator_name, property_name):\n",
    "    df_list = []\n",
    "    i = 0\n",
    "    print(property_filter, generator_filter)\n",
    "    for dir_name in os.listdir(base_name):\n",
    "        dir_path = os.path.join(base_name, dir_name)\n",
    "        split_dir_name = dir_name.split(\"_\")\n",
    "        if generator_filter in split_dir_name[1] and property_filter in split_dir_name[2]:\n",
    "            for file_name in os.listdir(dir_path):\n",
    "                if \".csv\" in file_name:\n",
    "                    df = generate_ex_time_data_frame(os.path.join(dir_path, file_name),os.path.join(dir_path, \"meta.json\"))\n",
    "                    df[\"$Run$\"] = i\n",
    "                    df[\"$Generator$\"] = generator_name\n",
    "                    df[\"$Property$\"] = property_name\n",
    "                    df_list.append(df)\n",
    "                    i += 1\n",
    "    return pd.concat(df_list)\n",
    "\n",
    "\n",
    "def generate_agg_ex_time_all_coverage_data_frames(base_name):\n",
    "    df_list=[]\n",
    "    gen_filter = [\"e-3\",\"known\"]\n",
    "    gen_name = [\"$Loose$\",\"$Tight$\"]\n",
    "    prop_filter = [\"DP\",\"Paa-Pbb\"]\n",
    "    prop_name = [\"$\\\\varphi_{DP}$\",\"$\\\\varphi_{TDP}$\"]\n",
    "    for i in [0,1]:\n",
    "        for j in [0,1]:\n",
    "            df = generate_agg_ex_time_data_frames(base_name, gen_filter[i], prop_filter[j], gen_name[i], prop_name[j])\n",
    "            df_list.append(df)\n",
    "    return pd.concat(df_list)\n",
    "\n",
    "\n",
    "def generate_coverage_data_frames(base_name, generator_filter, property_filter, generator_name, property_name):\n",
    "    df_list = []\n",
    "    i = 0\n",
    "    print(property_filter, generator_filter)\n",
    "    for dir_name in os.listdir(base_name):\n",
    "        dir_path = os.path.join(base_name, dir_name)\n",
    "        split_dir_name = dir_name.split(\"_\")\n",
    "        if generator_filter in split_dir_name[1] and property_filter in split_dir_name[2]:\n",
    "            for file_name in os.listdir(dir_path):\n",
    "                if \".csv\" in file_name:\n",
    "                    df = generate_data_frame(os.path.join(dir_path, file_name),os.path.join(dir_path, \"meta.json\"))\n",
    "                    df[\"$Run$\"] = i\n",
    "                    df[\"$Generator$\"] = generator_name\n",
    "                    df[\"$Property$\"] = property_name\n",
    "                    df_list.append(df)\n",
    "                    i += 1\n",
    "    return pd.concat(df_list)\n",
    "    \n",
    "def generate_all_coverage_data_frames(base_name):\n",
    "    df_list=[]\n",
    "    gen_filter = [\"e-3\",\"known\"]\n",
    "    gen_name = [\"$Loose$\",\"$Tight$\"]\n",
    "    prop_filter = [\"DP\",\"Paa-Pbb\"]\n",
    "    prop_name = [\"$\\\\varphi_{DP}$\",\"$\\\\varphi_{TDP}$\"]\n",
    "    for i in [0,1]:\n",
    "        for j in [0,1]:\n",
    "            df = generate_coverage_data_frames(base_name, gen_filter[i], prop_filter[j], gen_name[i], prop_name[j])\n",
    "            df_list.append(df)\n",
    "    return pd.concat(df_list)\n",
    "            "
   ]
  },
  {
   "cell_type": "code",
   "execution_count": 5,
   "id": "96d58264",
   "metadata": {},
   "outputs": [
    {
     "name": "stdout",
     "output_type": "stream",
     "text": [
      "DP e-3\n",
      "Paa-Pbb e-3\n",
      "DP known\n",
      "Paa-Pbb known\n"
     ]
    }
   ],
   "source": [
    "df_all = generate_all_coverage_data_frames(base_name)"
   ]
  },
  {
   "cell_type": "code",
   "execution_count": null,
   "id": "2dacbbc3",
   "metadata": {},
   "outputs": [],
   "source": []
  },
  {
   "cell_type": "code",
   "execution_count": 50,
   "id": "27f403cc",
   "metadata": {},
   "outputs": [],
   "source": [
    "df = df_all[(df_all[\"$Property$\"]== \"$\\\\varphi_{TDP}$\")]"
   ]
  },
  {
   "cell_type": "code",
   "execution_count": 51,
   "id": "f9c74d85",
   "metadata": {},
   "outputs": [],
   "source": [
    "df_min = df.groupby([\"$Observations$\",\"$Bounds$\",\"$Generator$\"]).min().reset_index()\n",
    "df_min[\"$Max/Min$\"] = \"$Min$\"\n",
    "df_max = df.groupby([\"$Observations$\",\"$Bounds$\",\"$Generator$\"]).max().reset_index()\n",
    "df_max[\"$Max/Min$\"] = \"$Max$\"\n",
    "\n",
    "df2 = pd.concat([df_min, df_max]).reset_index(drop=True)\n",
    "df2 = df2[(df2[\"$Bounds$\"]!=\"$True \\; Value$\")]\n",
    "df2 = df2[ (df2[\"$Bounds$\"]!=\"$Lower \\; Bound$\") | (df2[\"$Max/Min$\"]!=\"$Min$\")]\n",
    "df2 = df2[ (df2[\"$Bounds$\"]!=\"$Upper \\; Bound$\") | (df2[\"$Max/Min$\"]!=\"$Max$\")]\n",
    "df2 = df2[ (df2[\"$Bounds$\"]!=\"$Point \\; Estimate$\") | (df2[\"$Generator$\"]!=\"$Loose$\")]\n",
    "df2.loc[df2[\"$Bounds$\"]==\"$Point \\; Estimate$\", [\"$Generator$\"]] = \"$Observations$\""
   ]
  },
  {
   "cell_type": "code",
   "execution_count": 52,
   "id": "a1eb4541",
   "metadata": {},
   "outputs": [
    {
     "data": {
      "image/png": "[encoded data removed]",
      "text/plain": [
       "<Figure size 500x500 with 1 Axes>"
      ]
     },
     "metadata": {},
     "output_type": "display_data"
    }
   ],
   "source": [
    "sns.relplot(kind=\"line\", data=df2, x=\"$Observations$\", y=\"$Property \\; Value$\", \n",
    "            style=\"$Generator$\", hue=df2[[\"$Generator$\", \"$Max/Min$\"]].apply(tuple, axis=1), dashes=[\"\",(6,6),(6,6)], \n",
    "            palette=[sns.color_palette()[0], sns.color_palette()[2],sns.color_palette()[1],sns.color_palette()[2], \n",
    "                     sns.color_palette()[1],sns.color_palette()[0]],\n",
    "            legend=False)\n",
    "plt.ylim(-0.5,0.5)\n",
    "plt.savefig(\"TDP_coverage.pdf\", dpi=1000)"
   ]
  },
  {
   "cell_type": "code",
   "execution_count": 55,
   "id": "64751d4c",
   "metadata": {},
   "outputs": [
    {
     "data": {
      "text/plain": [
       "1024"
      ]
     },
     "execution_count": 55,
     "metadata": {},
     "output_type": "execute_result"
    }
   ],
   "source": [
    "2**10"
   ]
  },
  {
   "cell_type": "code",
   "execution_count": null,
   "id": "1d2e396f",
   "metadata": {},
   "outputs": [],
   "source": [
    "df2[df2[\"$Observations$\"]==0]"
   ]
  },
  {
   "cell_type": "code",
   "execution_count": null,
   "id": "0ea4e139",
   "metadata": {},
   "outputs": [],
   "source": []
  },
  {
   "cell_type": "code",
   "execution_count": 69,
   "id": "210d2f59",
   "metadata": {},
   "outputs": [
    {
     "name": "stdout",
     "output_type": "stream",
     "text": [
      "DP e-3\n",
      "Paa-Pbb e-3\n",
      "DP known\n",
      "Paa-Pbb known\n"
     ]
    }
   ],
   "source": [
    "df_t = generate_agg_ex_time_all_coverage_data_frames(base_name)"
   ]
  },
  {
   "cell_type": "code",
   "execution_count": 72,
   "id": "26f35492",
   "metadata": {},
   "outputs": [
    {
     "name": "stdout",
     "output_type": "stream",
     "text": [
      "('$Loose$', '$\\\\varphi_{DP}$')\n",
      "mean 9.92225263709916e-05\n",
      "median 0.00010058702901\n",
      "std 1.3514830534732252e-05\n",
      "max 0.0029315100982785\n",
      "min 7.270369678735733e-05\n",
      "--------\n",
      "('$Loose$', '$\\\\varphi_{TDP}$')\n",
      "mean 5.414736902260076e-05\n",
      "median 4.6662986278533936e-05\n",
      "std 2.371087316506717e-05\n",
      "max 0.0055608029942959\n",
      "min 2.8232811018824577e-05\n",
      "--------\n",
      "('$Tight$', '$\\\\varphi_{DP}$')\n",
      "mean 0.00011101009353392919\n",
      "median 0.0001034159213304\n",
      "std 1.6284186763192648e-05\n",
      "max 0.0011139558628201\n",
      "min 7.366808131337166e-05\n",
      "--------\n",
      "('$Tight$', '$\\\\varphi_{TDP}$')\n",
      "mean 3.539906869997022e-05\n",
      "median 3.3442978747189045e-05\n",
      "std 1.1422659508863794e-05\n",
      "max 0.0038411640562117\n",
      "min 2.5128014385700222e-05\n",
      "--------\n"
     ]
    }
   ],
   "source": [
    "for i, df1 in df_t.groupby([\"$Generator$\",\"$Property$\"]):\n",
    "    print(i)\n",
    "    print(\"mean\", df1[\"$Execution \\; Time$\"].mean())\n",
    "    print(\"median\", df1[\"$Execution \\; Time$\"].median())\n",
    "    print(\"std\", df1[\"$Execution \\; Time$\"].std())\n",
    "    print(\"max\", df1[\"$Execution \\; Time$\"].max())\n",
    "    print(\"min\", df1[\"$Execution \\; Time$\"].min())\n",
    "    print(\"--------\")\n",
    "    "
   ]
  },
  {
   "cell_type": "code",
   "execution_count": null,
   "id": "f16fe3f8",
   "metadata": {},
   "outputs": [],
   "source": []
  }
 ],
 "metadata": {
  "kernelspec": {
   "display_name": "Python 3 (ipykernel)",
   "language": "python",
   "name": "python3"
  },
  "language_info": {
   "codemirror_mode": {
    "name": "ipython",
    "version": 3
   },
   "file_extension": ".py",
   "mimetype": "text/x-python",
   "name": "python",
   "nbconvert_exporter": "python",
   "pygments_lexer": "ipython3",
   "version": "3.9.13"
  }
 },
 "nbformat": 4,
 "nbformat_minor": 5
}
