{
 "cells": [
  {
   "cell_type": "code",
   "execution_count": 31,
   "id": "a0428fe4",
   "metadata": {},
   "outputs": [],
   "source": [
    "import pandas as pd\n",
    "import seaborn as sns\n",
    "import numpy as np\n",
    "import math\n",
    "from matplotlib import pyplot as plt\n",
    "import os\n",
    "from io import StringIO\n",
    "import json\n",
    "%matplotlib inline "
   ]
  },
  {
   "cell_type": "code",
   "execution_count": 32,
   "id": "70ff10d5",
   "metadata": {},
   "outputs": [],
   "source": [
    "base_path =  \"../experimental_data/lending_small-lending_PaS1_quantitative_monitor_100000000_1_1685737585\"\n",
    "name = \"data_0.csv\"\n",
    "meta_name = \"meta.json\"\n",
    "batch_size = 10**6\n",
    "header = [\"$Observations$\", \"$State$\", \"$Observation$\",\"$Execution \\; Time$\" ,\"$Lower \\; Bound$\", \"$Upper \\; Bound$\", \"$Point \\; Estimate$\"]\n",
    "        "
   ]
  },
  {
   "cell_type": "code",
   "execution_count": 57,
   "id": "53ff707d",
   "metadata": {},
   "outputs": [],
   "source": [
    "def slim_file(name, base_path ,increments):\n",
    "    i = 0\n",
    "    from_path = os.path.join(base_path,name)\n",
    "    to_path = os.path.join(base_path, \"slim_\"+name)\n",
    "    new_file = StringIO()\n",
    "    with open(from_path, \"r\") as f:\n",
    "        for line in f:\n",
    "            if i % increments==0:\n",
    "                print(i)\n",
    "                new_file.write(line)\n",
    "            i += 1\n",
    "    with open(to_path, \"w\") as f:\n",
    "        f.write(new_file.getvalue())\n",
    "        \n",
    "def get_meta(base_path, name):\n",
    "    with open(os.path.join(base_path,name), \"r\") as f:\n",
    "        meta_dict = json.load(f)\n",
    "    return meta_dict\n",
    "\n",
    "\n",
    "def generate_data_frame(base_path, name, meta_name):\n",
    "    meta_dict = get_meta(base_path, meta_name)\n",
    "    df =  pd.read_csv(os.path.join(base_path, \"slim_\"+name), names=header)\n",
    "    df[\"$True \\; Value$\"] = meta_dict[\"true_value\"]\n",
    "    df = df[[\"$Observations$\",\"$Lower \\; Bound$\", \"$Upper \\; Bound$\",  \"$True \\; Value$\"]]\n",
    "    df2 = pd.melt(df, value_vars=[\"$Lower \\; Bound$\", \"$Upper \\; Bound$\", \"$True \\; Value$\"], \n",
    "              id_vars=[\"$Observations$\"], value_name=\"$Property \\; Value$\", var_name=\"$Bounds$\")\n",
    "    return df\n",
    "    \n",
    "    "
   ]
  },
  {
   "cell_type": "code",
   "execution_count": 58,
   "id": "4cbe565a",
   "metadata": {},
   "outputs": [],
   "source": [
    "# slim_file(name, base_path, batch_size)"
   ]
  },
  {
   "cell_type": "code",
   "execution_count": 62,
   "id": "3c1f9b86",
   "metadata": {},
   "outputs": [],
   "source": [
    "df = generate_data_frame(base_path, name, meta_name)\n",
    "df = df[[\"$Observations$\",\"$Lower \\; Bound$\", \"$Upper \\; Bound$\",  \"$True \\; Value$\"]]"
   ]
  },
  {
   "cell_type": "code",
   "execution_count": 64,
   "id": "1ab5352c",
   "metadata": {},
   "outputs": [],
   "source": [
    "df2 = pd.melt(df, value_vars=[\"$Lower \\; Bound$\", \"$Upper \\; Bound$\", \"$True \\; Value$\"], \n",
    "              id_vars=[\"$Observations$\"], value_name=\"$Property \\; Value$\", var_name=\"$Bounds$\")"
   ]
  },
  {
   "cell_type": "code",
   "execution_count": 120,
   "id": "9df6301b",
   "metadata": {},
   "outputs": [
    {
     "data": {
      "image/png": "[encoded data removed]",
      "text/plain": [
       "<Figure size 500x500 with 1 Axes>"
      ]
     },
     "metadata": {},
     "output_type": "display_data"
    }
   ],
   "source": [
    "sns.relplot(kind=\"line\", data=df2, x=\"$Observations$\", y=\"$Property \\; Value$\", \n",
    "            style=\"$Bounds$\", dashes=[\"\", \"\",(4, 4)], legend=False , hue=\"$Bounds$\", \n",
    "            palette=[sns.color_palette()[0], sns.color_palette()[0], sns.color_palette()[1]])\n",
    "plt.savefig(os.path.join(base_path, \"concentration.pdf\"), dpi=1000)"
   ]
  },
  {
   "cell_type": "code",
   "execution_count": 126,
   "id": "b126669e",
   "metadata": {},
   "outputs": [],
   "source": [
    "cs = 3\n",
    "n = 2\n",
    "k = math.comb(cs + n -1,n)**2"
   ]
  },
  {
   "cell_type": "code",
   "execution_count": 127,
   "id": "1726f1b5",
   "metadata": {},
   "outputs": [],
   "source": [
    "x = (k+k*2+k*2*cs+k*2*cs*2+ k*2*cs*2*3)"
   ]
  },
  {
   "cell_type": "code",
   "execution_count": 128,
   "id": "df2fc9e0",
   "metadata": {},
   "outputs": [
    {
     "data": {
      "text/plain": [
       "2052"
      ]
     },
     "execution_count": 128,
     "metadata": {},
     "output_type": "execute_result"
    }
   ],
   "source": [
    "x"
   ]
  },
  {
   "cell_type": "code",
   "execution_count": 104,
   "id": "d3b27dbe",
   "metadata": {},
   "outputs": [
    {
     "data": {
      "text/plain": [
       "53.826117408"
      ]
     },
     "execution_count": 104,
     "metadata": {},
     "output_type": "execute_result"
    }
   ],
   "source": [
    "x*32*10**(-9)"
   ]
  },
  {
   "cell_type": "code",
   "execution_count": null,
   "id": "43ab3ad6",
   "metadata": {},
   "outputs": [],
   "source": []
  },
  {
   "cell_type": "code",
   "execution_count": 129,
   "id": "412f5290",
   "metadata": {},
   "outputs": [
    {
     "data": {
      "text/plain": [
       "0.83"
      ]
     },
     "execution_count": 129,
     "metadata": {},
     "output_type": "execute_result"
    }
   ],
   "source": [
    "8300000000/10**10"
   ]
  },
  {
   "cell_type": "code",
   "execution_count": null,
   "id": "99e80381",
   "metadata": {},
   "outputs": [],
   "source": [
    "v"
   ]
  }
 ],
 "metadata": {
  "kernelspec": {
   "display_name": "Python 3 (ipykernel)",
   "language": "python",
   "name": "python3"
  },
  "language_info": {
   "codemirror_mode": {
    "name": "ipython",
    "version": 3
   },
   "file_extension": ".py",
   "mimetype": "text/x-python",
   "name": "python",
   "nbconvert_exporter": "python",
   "pygments_lexer": "ipython3",
   "version": "3.9.13"
  }
 },
 "nbformat": 4,
 "nbformat_minor": 5
}
