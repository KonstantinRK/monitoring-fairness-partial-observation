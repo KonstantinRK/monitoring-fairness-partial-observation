{
 "cells": [
  {
   "cell_type": "code",
   "execution_count": 1,
   "id": "b045c454",
   "metadata": {},
   "outputs": [],
   "source": [
    "import pandas as pd"
   ]
  },
  {
   "cell_type": "code",
   "execution_count": 3,
   "id": "bf006401",
   "metadata": {},
   "outputs": [],
   "source": [
    "path = \"../experimental_data/lending_small-lending_DP_quantitative_monitor_100000000_1_1685941093/data_0.csv\"\n",
    "path2 = \"../experimental_data/lending_small-lending_TDP_quantitative_monitor_100000000_1_1685947545/data_0.csv\""
   ]
  },
  {
   "cell_type": "code",
   "execution_count": 6,
   "id": "316e93bb",
   "metadata": {},
   "outputs": [],
   "source": [
    "df1 = pd.read_csv(path, names= [\"time\", \"state\", \"observation\",\"execution_time\" ,\"verdict_lower\", \"verdict_upper\", \"point_estimate\"], header=None)"
   ]
  },
  {
   "cell_type": "code",
   "execution_count": 14,
   "id": "d46ddbe6",
   "metadata": {},
   "outputs": [
    {
     "name": "stdout",
     "output_type": "stream",
     "text": [
      "DP\n",
      "mean 4.735258863870753e-05\n",
      "median 4.579196684062481e-05\n",
      "std 0.00017971578954595484\n",
      "max 0.2301818749401718\n",
      "min 4.337518475949764e-05\n"
     ]
    }
   ],
   "source": [
    "print(\"DP\")\n",
    "print(\"mean\", df1[\"execution_time\"].mean())\n",
    "print(\"median\", df1[\"execution_time\"].median())\n",
    "print(\"std\", df1[\"execution_time\"].std())\n",
    "print(\"max\", df1[\"execution_time\"].max())\n",
    "print(\"min\", df1[\"execution_time\"].min())"
   ]
  },
  {
   "cell_type": "code",
   "execution_count": 12,
   "id": "c210c063",
   "metadata": {},
   "outputs": [],
   "source": [
    "df2 = pd.read_csv(path2, names= [\"time\", \"state\", \"observation\",\"execution_time\" ,\"verdict_lower\", \"verdict_upper\", \"point_estimate\"], header=None)"
   ]
  },
  {
   "cell_type": "code",
   "execution_count": 13,
   "id": "59f14ea5",
   "metadata": {},
   "outputs": [
    {
     "name": "stdout",
     "output_type": "stream",
     "text": [
      "TDP\n",
      "mean 1.8001338012039195e-05\n",
      "median 1.691584475338459e-05\n",
      "std 0.00038036540145938095\n",
      "max 3.204879250144586\n",
      "min 1.241709105670452e-05\n"
     ]
    }
   ],
   "source": [
    "print(\"TDP\")\n",
    "print(\"mean\", df2[\"execution_time\"].mean())\n",
    "print(\"median\", df2[\"execution_time\"].median())\n",
    "print(\"std\", df2[\"execution_time\"].std())\n",
    "print(\"max\", df2[\"execution_time\"].max())\n",
    "print(\"min\", df2[\"execution_time\"].min())"
   ]
  },
  {
   "cell_type": "code",
   "execution_count": 10,
   "id": "a1709bbf",
   "metadata": {},
   "outputs": [
    {
     "data": {
      "text/plain": [
       "0.2301818749401718"
      ]
     },
     "execution_count": 10,
     "metadata": {},
     "output_type": "execute_result"
    }
   ],
   "source": [
    "df1[\"execution_time\"].max()"
   ]
  },
  {
   "cell_type": "code",
   "execution_count": 11,
   "id": "8a31ffa0",
   "metadata": {},
   "outputs": [
    {
     "data": {
      "text/plain": [
       "4.337518475949764e-05"
      ]
     },
     "execution_count": 11,
     "metadata": {},
     "output_type": "execute_result"
    }
   ],
   "source": [
    "df1[\"execution_time\"].min()"
   ]
  },
  {
   "cell_type": "code",
   "execution_count": null,
   "id": "d2d47fe5",
   "metadata": {},
   "outputs": [],
   "source": []
  }
 ],
 "metadata": {
  "kernelspec": {
   "display_name": "Python 3 (ipykernel)",
   "language": "python",
   "name": "python3"
  },
  "language_info": {
   "codemirror_mode": {
    "name": "ipython",
    "version": 3
   },
   "file_extension": ".py",
   "mimetype": "text/x-python",
   "name": "python",
   "nbconvert_exporter": "python",
   "pygments_lexer": "ipython3",
   "version": "3.9.13"
  }
 },
 "nbformat": 4,
 "nbformat_minor": 5
}
